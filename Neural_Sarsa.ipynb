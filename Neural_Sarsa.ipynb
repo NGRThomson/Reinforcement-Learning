{
  "nbformat": 4,
  "nbformat_minor": 0,
  "metadata": {
    "colab": {
      "name": "Neural_Sarsa.ipynb",
      "version": "0.3.2",
      "provenance": [],
      "collapsed_sections": []
    },
    "kernelspec": {
      "name": "python2",
      "display_name": "Python 2"
    },
    "accelerator": "GPU"
  },
  "cells": [
    {
      "metadata": {
        "id": "pYs6LMEbNqoQ",
        "colab_type": "text"
      },
      "cell_type": "markdown",
      "source": [
        "# RL homework 4\n",
        "\n",
        "-------------------------------\n",
        "\n",
        "\n",
        "**Name:** Nick Thomson\n",
        "\n",
        "**SN:** 16121669\n",
        "\n",
        "-----------------------------------\n",
        "\n",
        "\n",
        "**Start date:** *29th March 2018*\n",
        "\n",
        "**Due date:** *19th April 2018, 4:55 pm*\n",
        "\n",
        "------------------------------------\n",
        "\n",
        "## How to Submit\n",
        "\n",
        "When you have completed the exercises and everything has finsihed running, click on 'File' in the menu-bar and then 'Download .ipynb'. This file must be submitted to Moodle named as **studentnumber_RL_hw4.ipynb** before the deadline above.\n",
        "\n",
        "Also send a **sharable link** to the notebook at the following email: ucl.coursework.submit@gmail.com. You can also make it sharable via link to everyone, up to you.\n",
        "\n",
        "Please compile all results and all answers to the understanding questions into a PDF. Name convention: **studentnumber_RL_hw4.pdf**. Do not include any of the code (we will use the notebook for that). \n",
        "\n",
        "**Page limit: 10 pg **\n"
      ]
    },
    {
      "metadata": {
        "id": "9v_SYckYfv5G",
        "colab_type": "text"
      },
      "cell_type": "markdown",
      "source": [
        "## Context\n",
        "\n",
        "In this assignment, we will take a first look at learning decisions from data.  For this, we will use the multi-armed bandit framework.\n",
        "\n",
        "## Background reading\n",
        "\n",
        "* Sutton and Barto (2018), Chapters 6-7 + 9-11"
      ]
    },
    {
      "metadata": {
        "id": "ztQEQvnKh2t6",
        "colab_type": "text"
      },
      "cell_type": "markdown",
      "source": [
        "# Setup"
      ]
    },
    {
      "metadata": {
        "id": "qB0tQ4aiAaIu",
        "colab_type": "text"
      },
      "cell_type": "markdown",
      "source": [
        "### Import Useful Libraries"
      ]
    },
    {
      "metadata": {
        "id": "YzYtxi8Wh5SJ",
        "colab_type": "code",
        "colab": {}
      },
      "cell_type": "code",
      "source": [
        "import matplotlib.pyplot as plt\n",
        "import numpy as np\n",
        "import tensorflow as tf\n",
        "from collections import namedtuple"
      ],
      "execution_count": 0,
      "outputs": []
    },
    {
      "metadata": {
        "id": "6NDhSYfSDcCC",
        "colab_type": "text"
      },
      "cell_type": "markdown",
      "source": [
        "### Set options"
      ]
    },
    {
      "metadata": {
        "id": "Ps5OnkPmDbMX",
        "colab_type": "code",
        "colab": {}
      },
      "cell_type": "code",
      "source": [
        "np.set_printoptions(precision=3, suppress=1)"
      ],
      "execution_count": 0,
      "outputs": []
    },
    {
      "metadata": {
        "id": "cOu9RZY3AkF1",
        "colab_type": "text"
      },
      "cell_type": "markdown",
      "source": [
        "### Helper functions"
      ]
    },
    {
      "metadata": {
        "id": "6EttQGJ1n5Zn",
        "colab_type": "code",
        "colab": {}
      },
      "cell_type": "code",
      "source": [
        "def run_experiment(env, agent, number_of_steps):\n",
        "    mean_reward = 0.\n",
        "    try:\n",
        "      action = agent.initial_action()\n",
        "    except AttributeError:\n",
        "      action = 0\n",
        "    for i in range(number_of_steps):\n",
        "      reward, discount, next_state = grid.step(action)\n",
        "      action = agent.step(reward, discount, next_state)\n",
        "      mean_reward += (reward - mean_reward)/(i + 1.)\n",
        "\n",
        "    return mean_reward\n",
        "\n",
        "map_from_action_to_subplot = lambda a: (2, 6, 8, 4)[a]\n",
        "map_from_action_to_name = lambda a: (\"up\", \"right\", \"down\", \"left\")[a]\n",
        "\n",
        "def plot_values(values, colormap='pink', vmin=None, vmax=None):\n",
        "  plt.imshow(values, interpolation=\"nearest\", cmap=colormap, vmin=vmin, vmax=vmax)\n",
        "  plt.yticks([])\n",
        "  plt.xticks([])\n",
        "  plt.colorbar(ticks=[vmin, vmax])\n",
        "\n",
        "def plot_action_values(action_values, vmin=None, vmax=None):\n",
        "  q = action_values\n",
        "  fig = plt.figure(figsize=(8, 8))\n",
        "  fig.subplots_adjust(wspace=0.3, hspace=0.3)\n",
        "  for a in [0, 1, 2, 3]:\n",
        "    plt.subplot(3, 3, map_from_action_to_subplot(a))\n",
        "    plot_values(q[..., a], vmin=vmin, vmax=vmax)\n",
        "    action_name = map_from_action_to_name(a)\n",
        "    plt.title(r\"$q(s, \\mathrm{\" + action_name + r\"})$\")\n",
        "    \n",
        "  plt.subplot(3, 3, 5)\n",
        "  v = 0.9 * np.max(q, axis=-1) + 0.1 * np.mean(q, axis=-1)\n",
        "  plot_values(v, colormap='summer', vmin=vmin, vmax=vmax)\n",
        "  plt.title(\"$v(s)$\")\n",
        "\n",
        "\n",
        "def plot_rewards(xs, rewards, color):\n",
        "  mean = np.mean(rewards, axis=0)\n",
        "  p90 = np.percentile(rewards, 90, axis=0)\n",
        "  p10 = np.percentile(rewards, 10, axis=0)\n",
        "  plt.plot(xs, mean, color=color, alpha=0.6)\n",
        "  plt.fill_between(xs, p90, p10, color=color, alpha=0.3)\n",
        "  \n",
        "\n",
        "def parameter_study(parameter_values, parameter_name,\n",
        "  agent_constructor, env_constructor, color, repetitions=10, number_of_steps=int(1e4)):\n",
        "  mean_rewards = np.zeros((repetitions, len(parameter_values)))\n",
        "  greedy_rewards = np.zeros((repetitions, len(parameter_values)))\n",
        "  for rep in range(repetitions):\n",
        "    for i, p in enumerate(parameter_values):\n",
        "      env = env_constructor()\n",
        "      agent = agent_constructor()\n",
        "      if 'eps' in parameter_name:\n",
        "        agent.set_epsilon(p)\n",
        "      elif 'alpha' in parameter_name:\n",
        "        agent._step_size = p\n",
        "      else:\n",
        "        raise NameError(\"Unknown parameter_name: {}\".format(parameter_name))\n",
        "      mean_rewards[rep, i] = run_experiment(grid, agent, number_of_steps)\n",
        "      agent.set_epsilon(0.)\n",
        "      agent._step_size = 0.\n",
        "      greedy_rewards[rep, i] = run_experiment(grid, agent, number_of_steps//10)\n",
        "      del env\n",
        "      del agent\n",
        "\n",
        "  plt.subplot(1, 2, 1)\n",
        "  plot_rewards(parameter_values, mean_rewards, color)\n",
        "  plt.yticks=([0, 1], [0, 1])\n",
        "  # plt.ylim((0, 1.5))\n",
        "  plt.ylabel(\"Average reward over first {} steps\".format(number_of_steps), size=12)\n",
        "  plt.xlabel(parameter_name, size=12)\n",
        "\n",
        "  plt.subplot(1, 2, 2)\n",
        "  plot_rewards(parameter_values, greedy_rewards, color)\n",
        "  plt.yticks=([0, 1], [0, 1])\n",
        "  # plt.ylim((0, 1.5))\n",
        "  plt.ylabel(\"Final rewards, with greedy policy\".format(number_of_steps), size=12)\n",
        "  plt.xlabel(parameter_name, size=12)\n",
        "  \n",
        "def epsilon_greedy(q_values, epsilon):\n",
        "  if epsilon < np.random.random():\n",
        "    return np.argmax(q_values)\n",
        "  else:\n",
        "    return np.random.randint(np.array(q_values).shape[-1])"
      ],
      "execution_count": 0,
      "outputs": []
    },
    {
      "metadata": {
        "id": "ALrRR76eAd6u",
        "colab_type": "text"
      },
      "cell_type": "markdown",
      "source": [
        "### A grid world"
      ]
    },
    {
      "metadata": {
        "id": "YP97bVN3NuG8",
        "colab_type": "code",
        "colab": {}
      },
      "cell_type": "code",
      "source": [
        "class Grid(object):\n",
        "\n",
        "  def __init__(self, tabular=True, vision_size=1, noisy=False):\n",
        "    # -1: wall\n",
        "    # 0: empty, episode continues\n",
        "    # other: number indicates reward, episode will terminate\n",
        "    self._layout = np.array([\n",
        "      [-1, -1, -1, -1, -1, -1, -1, -1, -1, -1, -1, -1, -1, -1, -1, -1, -1],\n",
        "      [-1, -1, -1, -1, -1, -1, -1, -1, -1, -1, -1, -1, -1, -1, -1, -1, -1],\n",
        "      [-1, -1, -1,  0, -1, -1, -1, -1,  0, -1, -1, -1, -1,  0, -1, -1, -1],\n",
        "      [-1, -1,  0,  0,  0,  0,  0,  0,  0,  0,  0,  0,  0,  0,  0, -1, -1],\n",
        "      [-1, -1, -1,  0, -1, -1, -1, -1,  0, -1, -1, -1, -1,  0, -1, -1, -1],\n",
        "      [-1, -1, -1,  0, -1, -1, -1, -1,  0, -1, -1, -1, -1,  0, -1, -1, -1],\n",
        "      [-1, -1, -1,  0, -1, -1, -1, -1,  0, -1, -1, -1, -1,  0, -1, -1, -1],\n",
        "      [-1, -1, -1,  0, -1, -1, -1, -1,  0, -1, -1, -1, -1,  0, -1, -1, -1],\n",
        "      [-1, -1, -1,  0, -1, -1, -1, -1,  0, -1, -1, -1, -1,  0, -1, -1, -1],\n",
        "      [-1, -1, -1,  0, -1, -1, -1, -1,  0, -1, -1, -1, -1,  0, -1, -1, -1],\n",
        "      [-1, -1, -1, -5, -1, -1, -1, -1, -6, -1, -1, -1, -1, 10, -1, -1, -1],\n",
        "      [-1, -1, -1, -1, -1, -1, -1, -1, -1, -1, -1, -1, -1, -1, -1, -1, -1],\n",
        "      [-1, -1, -1, -1, -1, -1, -1, -1, -1, -1, -1, -1, -1, -1, -1, -1, -1],\n",
        "    ])\n",
        "    self._start_state = (4, 3)\n",
        "    self._state = self._start_state\n",
        "    self._number_of_states = np.prod(np.shape(self._layout))\n",
        "    self._noisy = noisy\n",
        "    self._tabular = tabular\n",
        "    self._vision_size = vision_size\n",
        "\n",
        "  @property\n",
        "  def number_of_states(self):\n",
        "      return self._number_of_states\n",
        "    \n",
        "  def plot_grid(self):\n",
        "    plt.figure(figsize=(4, 4))\n",
        "    plt.imshow(self._layout != -1, interpolation=\"nearest\", cmap='pink')    \n",
        "    ax = plt.gca()\n",
        "    ax.grid(0)\n",
        "    plt.xticks([])\n",
        "    plt.yticks([])\n",
        "    plt.title(\"The grid\")\n",
        "    plt.text(2, 2, r\"$\\mathbf{S}$\", ha='center', va='center')\n",
        "    goal_y, goal_x = np.where(self._layout==10)\n",
        "    plt.text(goal_x, goal_y, r\"$\\mathbf{G}$\", ha='center', va='center')\n",
        "    goal_y, goal_x = np.where(self._layout==-5)\n",
        "    plt.text(goal_x, goal_y, r\"$\\mathbf{D}$\", ha='center', va='center')\n",
        "    goal_y, goal_x = np.where(self._layout==-6)\n",
        "    plt.text(goal_x, goal_y, r\"$\\mathbf{D}$\", ha='center', va='center')\n",
        "    h, w = self._layout.shape\n",
        "    for y in range(h-1):\n",
        "      plt.plot([-0.5, w-0.5], [y+0.5, y+0.5], '-k', lw=2)\n",
        "    for x in range(w-1):\n",
        "      plt.plot([x+0.5, x+0.5], [-0.5, h-0.5], '-k', lw=2)\n",
        "\n",
        "  def get_obs(self):\n",
        "    y, x = self._state\n",
        "    return self.get_obs_at(x, y)\n",
        "\n",
        "  def get_obs_at(self, x, y):\n",
        "    if self._tabular:\n",
        "      return y*self._layout.shape[1] + x\n",
        "    else:\n",
        "      v = self._vision_size\n",
        "      location = np.clip(-self._layout[y-v:y+v+1,x-v:x+v+1], 0, 1)\n",
        "      return location\n",
        "\n",
        "  def step(self, action):\n",
        "    y, x = self._state\n",
        "    \n",
        "    if action == 0:  # up\n",
        "      new_state = (y - 1, x)\n",
        "    elif action == 1:  # right\n",
        "      new_state = (y, x + 1)\n",
        "    elif action == 2:  # down\n",
        "      new_state = (y + 1, x)\n",
        "    elif action == 3:  # left\n",
        "      new_state = (y, x - 1)\n",
        "    else:\n",
        "      raise ValueError(\"Invalid action: {} is not 0, 1, 2, or 3.\".format(action))\n",
        "\n",
        "    new_y, new_x = new_state\n",
        "    discount = 0.98\n",
        "    if self._layout[new_y, new_x] == -1:  # wall\n",
        "      reward = -1\n",
        "      new_state = (y, x)\n",
        "    elif self._layout[new_y, new_x] != 0: # a goal\n",
        "      reward = self._layout[new_y, new_x]\n",
        "      discount = 0.\n",
        "      new_state = self._start_state\n",
        "    else:\n",
        "      reward = (new_y + new_x) / np.sum(self._layout.shape)\n",
        "    if self._noisy:\n",
        "      width = self._layout.shape[1]\n",
        "      reward += 2*np.random.normal(0, width - new_x + new_y)\n",
        "    \n",
        "    self._state = new_state\n",
        "\n",
        "    return reward, discount, self.get_obs()\n",
        "    "
      ],
      "execution_count": 0,
      "outputs": []
    },
    {
      "metadata": {
        "id": "UaGeLcsvixmt",
        "colab_type": "text"
      },
      "cell_type": "markdown",
      "source": [
        "### The grid\n",
        "\n",
        "The cell below shows the `Grid` environment that we will use. Here `S` indicates the start state and `G` indicates the goal.  The agent has four possible actions: up, right, down, and left.  Rewards are: `-1` for bumping into a wall, `+10` for reaching the goal, and `(x + y)/(height + width)` otherwise, which encourages the agent to go right and down.  The episode ends when the agent reaches the goal.  At the end of the left-most two corridors, there are distractor 'goals' (marked `D`) that give a reward of $-5$ and $-6$, and then also terminate the episode.  The discount, on continuing steps, is $\\gamma = 0.98$.  Feel free to reference the implemetation of the `Grid` above, under the header \"a grid world\"."
      ]
    },
    {
      "metadata": {
        "id": "SlFuWFzIi5uB",
        "colab_type": "code",
        "outputId": "cea78a8f-a7ee-451d-f978-574d0b85f7e8",
        "colab": {
          "base_uri": "https://localhost:8080/",
          "height": 217
        }
      },
      "cell_type": "code",
      "source": [
        "grid = Grid()\n",
        "grid.plot_grid()"
      ],
      "execution_count": 0,
      "outputs": [
        {
          "output_type": "display_data",
          "data": {
            "image/png": "[encoded data removed]",
            "text/plain": [
              "<matplotlib.figure.Figure at 0x7fa7d07376d0>"
            ]
          },
          "metadata": {
            "tags": []
          }
        }
      ]
    },
    {
      "metadata": {
        "id": "MKfA7ifHvO-M",
        "colab_type": "text"
      },
      "cell_type": "markdown",
      "source": [
        "\n",
        "## Implement agents\n",
        "**[10 pts]** In the next code cell, implement an agent that uses **tabular Sarsa** to learn action values.  The agent should act according to an $\\epsilon$-greedy policy with respect to its action values.\n",
        "\n",
        "The agent will be initialized with:\n",
        "```\n",
        "agent = Sarsa(number_of_states=grid._layout.size,\n",
        "              number_of_actions=4,\n",
        "              grid.get_obs())\n",
        "```"
      ]
    },
    {
      "metadata": {
        "id": "u_hLSL8anhsv",
        "colab_type": "code",
        "colab": {}
      },
      "cell_type": "code",
      "source": [
        "class Sarsa(object):\n",
        "\n",
        "  def __init__(self, number_of_states, number_of_actions, initial_state):\n",
        "    self._q = np.zeros((number_of_states, number_of_actions))\n",
        "    self._state = initial_state\n",
        "    self._number_of_actions = number_of_actions\n",
        "    self._action = 0\n",
        "  \n",
        "  def target_policy(self, q, a):\n",
        "    return np.eye(len(q))[a]\n",
        "\n",
        "  def behaviour_policy(self, q):\n",
        "    return epsilon_greedy(q, 0.1)\n",
        "  \n",
        "  @property\n",
        "  def q_values(self):\n",
        "    return self._q\n",
        "\n",
        "  def step(self, reward, discount, next_state):   \n",
        "    \n",
        "    s = self._state\n",
        "    a = self._action\n",
        "    r = reward\n",
        "    g = discount\n",
        "    next_s = next_state\n",
        "\n",
        "    action = self.behaviour_policy(self.q_values[next_s])        \n",
        "    next_action = np.argmax(self.target_policy(self.q_values[next_s],action))    \n",
        "    \n",
        "    self.q_values[s, a] += 0.01*(r + g*(self.q_values[next_s,next_action]) - self.q_values[s, a])\n",
        "    \n",
        "    self._state = next_state \n",
        "    self._action = next_action\n",
        "    return next_action\n"
      ],
      "execution_count": 0,
      "outputs": []
    },
    {
      "metadata": {
        "id": "oMr_z0RZsHNj",
        "colab_type": "text"
      },
      "cell_type": "markdown",
      "source": [
        "**[20 pts]** Implement an agent that uses **neural Sarsa** to learn action values.  The agent should expect a nxn input which it should flatten into a vector, and then pass through a multi-layer perceptron with a single hidden layer with 100 hidden nodes and ReLU activations.  Each weight layer should also have a bias.  Initialize all weights uniformly randomly in $[-0.05, 0.05]$.\n",
        "\n",
        "```\n",
        "NeuralSarsa(number_of_features=(2*vision_size + 1)**2,\n",
        "            number_of_hidden=100,\n",
        "            number_of_actions=4,\n",
        "            initial_state=grid.get_obs(),\n",
        "            step_size=0.01)\n",
        "```\n",
        "\n",
        "The number `vision_size` will be either 1 or 2 below.  The input vector will be of size $(2v + 1)^2$, which will correspond to a square local view of the grid, centered on the agent, and of size $(2v + 1) \\times (2v + 1)$ (so either 3x3 or 5x5).\n",
        "\n",
        "You are allowed, but not mandated, to use TensorFlow to implement this agent.  (The network is small enough that you can also use numpy, but then you have to implement your own backprop.)  Please document the code clearly, especially on non-trivial operations."
      ]
    },
    {
      "metadata": {
        "id": "KdRR9PiWj4Ew",
        "colab_type": "code",
        "colab": {}
      },
      "cell_type": "code",
      "source": [
        "class NeuralSarsa():\n",
        "  def __init__(self, number_of_features, number_of_hidden, number_of_actions, initial_state, step_size=0.1):\n",
        "    self._number_of_features = number_of_features\n",
        "    self._s = initial_state\n",
        "    self._number_of_hidden = number_of_hidden\n",
        "    self._number_of_actions = number_of_actions\n",
        "    self._step_size = step_size\n",
        "    self._size = int(number_of_features**0.5)\n",
        "    self._last_action = 0\n",
        "\n",
        "    with tf.device('/device:GPU:*'):\n",
        "      tf.reset_default_graph()\n",
        "    \n",
        "      self.inputs = tf.placeholder(\"float\", [None, self._size, self._size])\n",
        "      self.targets = tf.placeholder(\"float\", [None, 1])\n",
        "      self.action = tf.placeholder(\"float\", [None, 1])\n",
        "      \n",
        "      self.input_layer = tf.contrib.layers.flatten(self.inputs)\n",
        "      \n",
        "      self.weights1 = tf.Variable(tf.random_uniform([self._number_of_features, self._number_of_hidden], -0.05, 0.05))\n",
        "      self.biases1 = tf.Variable(tf.zeros([self._number_of_hidden]))\n",
        "      self.hidden_out = tf.nn.relu(tf.add(tf.matmul(tf.reshape(self.input_layer, [-1, self._number_of_features]), self.weights1), self.biases1))\n",
        "      \n",
        "      self.weights2 = tf.Variable(tf.random_uniform([self._number_of_hidden, self._number_of_actions], -0.05, 0.05))\n",
        "      self.biases2 = tf.Variable(tf.zeros([self._number_of_actions]))\n",
        "      self.logits = tf.add(tf.matmul(self.hidden_out, self.weights2),self.biases2)\n",
        "      \n",
        "      \n",
        "      self.create_opt()\n",
        "      self.init = tf.global_variables_initializer()\n",
        "      self.sess = tf.Session()\n",
        "      self.sess.run(self.init)\n",
        "\n",
        "  def create_opt(self):\n",
        "    self.indices = tf.concat([[[0]], tf.cast(self.action, tf.int32)], 1)\n",
        "    self.aux = tf.gather_nd(self.logits, self.indices)\n",
        "    self.diff = self.targets - self.aux\n",
        "    self.q_loss = tf.square(self.diff)\n",
        "    self.optimizer = tf.train.RMSPropOptimizer(learning_rate=self._step_size).minimize(self.q_loss)\n",
        "    \n",
        "  def training(self, X, Y, a):\n",
        "    self.sess.run([self.indices, \n",
        "                   self.aux, \n",
        "                   self.diff, \n",
        "                   self.q_loss, \n",
        "                   self.logits, \n",
        "                   self.optimizer],\n",
        "                   feed_dict= {self.inputs: X,\n",
        "                               self.targets: Y,\n",
        "                               self.action: a})\n",
        "    \n",
        "  def target_policy(self, q, a):\n",
        "    return np.eye(len(q))[a]\n",
        "\n",
        "  def behaviour_policy(self, q):\n",
        "    return epsilon_greedy(q, 0.1)\n",
        "    \n",
        "  def q(self, obs):\n",
        "    obs = obs.reshape(-1, self._size, self._size) \n",
        "    q_values = self.sess.run(self.logits, feed_dict = {self.inputs: obs})\n",
        "    return q_values[0]\n",
        "  \n",
        "  \n",
        "  def step(self, r, g, s):\n",
        "    \n",
        "    q_update = self.q(s)\n",
        "    next_a = np.argmax(self.target_policy(q_update,self.behaviour_policy(q_update)))    \n",
        "    \n",
        "    self.delta = (r + (g * q_update[next_a]) ).reshape(1,1)\n",
        "\n",
        "    self.training(self._s.reshape(1, self._size, self._size), self.delta, np.array(self._last_action).reshape(1,1))\n",
        "    \n",
        "    self._s = s\n",
        "    self._last_action = next_a\n",
        "    \n",
        "    return self._last_action"
      ],
      "execution_count": 0,
      "outputs": []
    },
    {
      "metadata": {
        "id": "1jZsPzCmDxAh",
        "colab_type": "text"
      },
      "cell_type": "markdown",
      "source": [
        "# Analyse Results"
      ]
    },
    {
      "metadata": {
        "id": "xQkk8sMxE0N4",
        "colab_type": "text"
      },
      "cell_type": "markdown",
      "source": [
        "### Run the cells below to train the tabular and neural SARSA agents and to generate plots.\n",
        "\n",
        "This trains the agents the Grid problem with an epsilon of 0.1.\n",
        "\n",
        "The plots below will show action values for each of the actions, as well as a state value defined by $v(s) = \\sum_a \\pi(a|s) q(s, a)$."
      ]
    },
    {
      "metadata": {
        "id": "GsNBHNZtHCPe",
        "colab_type": "code",
        "cellView": "both",
        "outputId": "aca59cf2-615d-415b-b87f-d4da029d0684",
        "colab": {
          "base_uri": "https://localhost:8080/",
          "height": 466
        }
      },
      "cell_type": "code",
      "source": [
        "grid = Grid()\n",
        "agent = Sarsa(number_of_states=grid._layout.size,\n",
        "              number_of_actions=4,\n",
        "              initial_state = grid.get_obs())\n",
        "run_experiment(grid, agent, int(1e5))\n",
        "q = agent.q_values.reshape(grid._layout.shape + (4,))\n",
        "plot_action_values(q)"
      ],
      "execution_count": 0,
      "outputs": [
        {
          "output_type": "display_data",
          "data": {
            "image/png": "[encoded data removed]",
            "text/plain": [
              "<matplotlib.figure.Figure at 0x7fa7d3a9b6d0>"
            ]
          },
          "metadata": {
            "tags": []
          }
        }
      ]
    },
    {
      "metadata": {
        "id": "K-JnvcP0mrxF",
        "colab_type": "code",
        "outputId": "2dc6af3a-d299-4a62-c424-e356bd8014c1",
        "colab": {
          "base_uri": "https://localhost:8080/",
          "height": 466
        }
      },
      "cell_type": "code",
      "source": [
        "vision_size = 1\n",
        "grid = Grid(tabular=False, vision_size=vision_size)\n",
        "agent = NeuralSarsa(number_of_features=(2*vision_size + 1)**2,\n",
        "                    number_of_hidden=100,\n",
        "                    number_of_actions=4,\n",
        "                    initial_state=grid.get_obs(),\n",
        "                    step_size=0.01)\n",
        "run_experiment(grid, agent, int(1e5))\n",
        "h, w = grid._layout.shape\n",
        "\n",
        "obs = np.array([[grid.get_obs_at(x, y) for x in range(2, w-2)] for y in range(2, h-2)])\n",
        "qs = np.array([[[agent.q(o)[a] for a in range(4)] if o[vision_size,vision_size] == 0 else np.zeros((4,)) for o in ob] for ob in obs])\n",
        "plot_action_values(qs)"
      ],
      "execution_count": 0,
      "outputs": [
        {
          "output_type": "display_data",
          "data": {
            "image/png": "[encoded data removed]",
            "text/plain": [
              "<matplotlib.figure.Figure at 0x7fa7fdef9d10>"
            ]
          },
          "metadata": {
            "tags": []
          }
        }
      ]
    },
    {
      "metadata": {
        "id": "8x_WwebmxRpZ",
        "colab_type": "code",
        "outputId": "edcbf138-83b7-4138-80dc-f0a4ffb896c5",
        "colab": {
          "base_uri": "https://localhost:8080/",
          "height": 476
        }
      },
      "cell_type": "code",
      "source": [
        "plot_action_values(qs,-8,-1)"
      ],
      "execution_count": 0,
      "outputs": [
        {
          "output_type": "display_data",
          "data": {
            "image/png": "[encoded data removed]",
            "text/plain": [
              "<matplotlib.figure.Figure at 0x7fa7d04a6210>"
            ]
          },
          "metadata": {
            "tags": []
          }
        }
      ]
    },
    {
      "metadata": {
        "id": "tmGFDriIPsGz",
        "colab_type": "code",
        "outputId": "38b84371-a7bf-43f4-cb8f-3e97ea0f2f62",
        "colab": {
          "base_uri": "https://localhost:8080/",
          "height": 466
        }
      },
      "cell_type": "code",
      "source": [
        "vision_size = 2\n",
        "grid = Grid(tabular=False, vision_size=vision_size)\n",
        "agent = NeuralSarsa(number_of_features=(2*vision_size + 1)**2,\n",
        "                    number_of_hidden=100,\n",
        "                    number_of_actions=4,\n",
        "                    initial_state=grid.get_obs(),\n",
        "                    step_size=0.01)\n",
        "run_experiment(grid, agent, int(1e5))\n",
        "h, w = grid._layout.shape\n",
        "obs = np.array([[grid.get_obs_at(x, y) for x in range(2, w-2)] for y in range(2, h-2)])\n",
        "qs = np.array([[[agent.q(o)[a] for a in range(4)] if o[vision_size,vision_size] == 0 else np.zeros((4,)) for o in ob] for ob in obs])\n",
        "plot_action_values(qs)"
      ],
      "execution_count": 0,
      "outputs": [
        {
          "output_type": "display_data",
          "data": {
            "image/png": "[encoded data removed]",
            "text/plain": [
              "<matplotlib.figure.Figure at 0x7fa7e42c7c10>"
            ]
          },
          "metadata": {
            "tags": []
          }
        }
      ]
    },
    {
      "metadata": {
        "id": "LGptHwE23lmP",
        "colab_type": "text"
      },
      "cell_type": "markdown",
      "source": [
        "## Questions\n",
        "\n",
        "Consider the greedy policy with respect to the estimated values\n",
        "\n",
        "**[5 pts]** Which algorithm performed best?  Why?\n",
        "\n",
        "Over 100,000 iterations the Tabular Sarsa performs better than the Neural Sarsa in terms of action values. However the Neural Sarsa is far better at 100,000 iterations compared with 10,000, this and the action values over time would suggest that in time Neural Sarsa would converge to optimal values along with Tabular Sarsa.\n",
        "\n",
        "**[5 pts]** Is there a difference in the solution found by Neural Sarsa with a vision size of 1 (so 3x3 local observations), and a vision size of 2 (so 5x5 local observations)?  Why?\n",
        "\n",
        "When plotting the action values of the two Neural Sarsa models, there is very little difference in performance, they both converge over time although this does not happen 100% of the time, when seeing the current plots we can see this. Both have negative action values after 100,000 iterations, both have sensible action values (for example, high action values right along the main hoizontal of the grid world) and both are converging. One big difference in the plots is that the extra vision allows model 2 to see differences in more of the grid around the main horizontal. This is shown by the sudden changes of action values in model 1 compared to model 2.\n",
        "\n",
        "**[10 pts]** How could we improve the performance of the Neural Sarsa agent on this domain (for both vision sizes)?  Identify the main issue, and propose a concrete solution (in max 200 words).\n",
        "\n",
        "The biggest issue is that the network forgets the previous states and the vision means that in many states it is unsure where it is on the gridworld. This is most apparent when plotting action values of the model 1, the crossroads on the grid have the same action value. This is because the model sees the same 4 squares and cannot differentiate between them. One big change could be a wider vision range with a deeper netowrk or perhaps a CNN. Another change could be a memory state of the previous 5-10 movements (perhaps concatenated together similar to video frames for atari), this would allow many states on the gridworld to differ, e.g. the furthest right crossroads is the most important as the network should go down from here, if the previous 10 actions have been \"right\" then this is a unique state in the gridworld and the model will hopefully increase the action value.\n",
        "\n",
        "**[10 BONUS pts]** Implement your proposed improvement and show that it actually helps performance."
      ]
    }
  ]
}